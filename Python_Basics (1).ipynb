{
  "cells": [
    {
      "cell_type": "markdown",
      "metadata": {
        "id": "cE173s55FtjT"
      },
      "source": [
        "**1. What is Python, and why is it popular?**\n",
        "       \n",
        "- Python is a programming launguage which is used to give instructions to the machine\n",
        "- It contains some set of letters and symobls which can be understand by the machine to perform the given task\n",
        "- The reason why python is so much popular are:-\n",
        "1. Its very easy to use for beginners\n",
        "2. it has a very huge libraries(where we store the codes to use them in future to save time.)\n",
        "3. A huge active community(almost everyone who is into coding learns the python as there very first coding language and almost every one knows python which helps us like we can search for the solution for the problem on the internet, it will be easily available)\n",
        "4. Its majorly used in every feild of work wheather it's the data science, data analytics,\n",
        " frontend, backend etc.\n",
        "\n",
        "\n"
      ]
    },
    {
      "cell_type": "markdown",
      "metadata": {
        "id": "9qFLg7xrHEI0"
      },
      "source": [
        "**2. What is an interpreter in Python?**\n",
        "- In one word we can say an interpreter is a translator who translates the statement written by us into language/code that the machines understands.\n",
        "- The major differnce between the compiler and the interperter is that the interpreter translates the code line by line while the compiler translates all the codes at single run time."
      ]
    },
    {
      "cell_type": "markdown",
      "metadata": {
        "id": "J_IRwvrBWuvG"
      },
      "source": [
        "**3. What are pre-defined keywords in Python?**\n",
        "- These are the perdefined terms that are set to perform the specific task\n",
        "- We can't assign the keywords as variables as it will cause syntax error.\n",
        "- To access all the keywords in python there is a code:-"
      ]
    },
    {
      "cell_type": "code",
      "execution_count": null,
      "metadata": {
        "colab": {
          "base_uri": "https://localhost:8080/"
        },
        "id": "gha_tzzSXFrg",
        "outputId": "62342d19-a0d7-4a12-dd9b-44bec6605119"
      },
      "outputs": [
        {
          "name": "stdout",
          "output_type": "stream",
          "text": [
            "\n",
            "Here is a list of the Python keywords.  Enter any keyword to get more help.\n",
            "\n",
            "False               class               from                or\n",
            "None                continue            global              pass\n",
            "True                def                 if                  raise\n",
            "and                 del                 import              return\n",
            "as                  elif                in                  try\n",
            "assert              else                is                  while\n",
            "async               except              lambda              with\n",
            "await               finally             nonlocal            yield\n",
            "break               for                 not                 \n",
            "\n"
          ]
        }
      ],
      "source": [
        "help(\"keywords\")"
      ]
    },
    {
      "cell_type": "markdown",
      "metadata": {
        "id": "gxlEIJbIXpQA"
      },
      "source": [
        "- for example like the print keyword\n",
        "it is used to print any text that we want for example:-"
      ]
    },
    {
      "cell_type": "code",
      "execution_count": null,
      "metadata": {
        "colab": {
          "base_uri": "https://localhost:8080/"
        },
        "id": "LGfDBLoXX476",
        "outputId": "90f7278e-88a1-4995-e2c6-905b78991272"
      },
      "outputs": [
        {
          "name": "stdout",
          "output_type": "stream",
          "text": [
            "Hello PW SKILLS team!\n"
          ]
        }
      ],
      "source": [
        "print(\"Hello PW SKILLS team!\")"
      ]
    },
    {
      "cell_type": "markdown",
      "metadata": {
        "id": "FKmktV1YbZxU"
      },
      "source": [
        "**4. Can keywords be used as variable names?**"
      ]
    },
    {
      "cell_type": "markdown",
      "metadata": {
        "id": "bsVDfCWYYDTv"
      },
      "source": [
        "- No we can't use keywords aa variables let me demonstrate it with an example\n",
        "- you should never use a keyword as an varible to assign, and by mistakenly if you did then also n problem there is a solution to it let me illustrate:-"
      ]
    },
    {
      "cell_type": "code",
      "execution_count": null,
      "metadata": {
        "colab": {
          "base_uri": "https://localhost:8080/",
          "height": 35
        },
        "id": "jS_BRdQoYkZq",
        "outputId": "3744d283-e161-4bd0-fec5-c8505f0474dd"
      },
      "outputs": [
        {
          "data": {
            "application/vnd.google.colaboratory.intrinsic+json": {
              "type": "string"
            },
            "text/plain": [
              "'Hello'"
            ]
          },
          "execution_count": 8,
          "metadata": {},
          "output_type": "execute_result"
        }
      ],
      "source": [
        "print = \"Hello\"\n",
        "print"
      ]
    },
    {
      "cell_type": "markdown",
      "metadata": {
        "id": "xFQW92JLZSFn"
      },
      "source": [
        "here the print keyword is assigned to \"hello\",\n",
        "now if we try to give print command it will show an error, let me show you"
      ]
    },
    {
      "cell_type": "code",
      "execution_count": null,
      "metadata": {
        "colab": {
          "base_uri": "https://localhost:8080/",
          "height": 144
        },
        "id": "OvP7hxDDZO5C",
        "outputId": "18b6c837-2f54-456d-a559-9a010d1161ce"
      },
      "outputs": [
        {
          "ename": "TypeError",
          "evalue": "'str' object is not callable",
          "output_type": "error",
          "traceback": [
            "\u001b[0;31m---------------------------------------------------------------------------\u001b[0m",
            "\u001b[0;31mTypeError\u001b[0m                                 Traceback (most recent call last)",
            "\u001b[0;32m<ipython-input-13-dd9de57656c3>\u001b[0m in \u001b[0;36m<cell line: 0>\u001b[0;34m()\u001b[0m\n\u001b[0;32m----> 1\u001b[0;31m \u001b[0mprint\u001b[0m\u001b[0;34m(\u001b[0m\u001b[0;34m\"PW SKILLS\"\u001b[0m\u001b[0;34m)\u001b[0m\u001b[0;34m\u001b[0m\u001b[0;34m\u001b[0m\u001b[0m\n\u001b[0m",
            "\u001b[0;31mTypeError\u001b[0m: 'str' object is not callable"
          ]
        }
      ],
      "source": [
        "print(\"PW SKILLS\")\n"
      ]
    },
    {
      "cell_type": "code",
      "execution_count": null,
      "metadata": {
        "colab": {
          "base_uri": "https://localhost:8080/"
        },
        "id": "H7XwhV3mZ3wZ",
        "outputId": "81e9c115-37bf-4a56-c3ce-636c9a3d4fcd"
      },
      "outputs": [
        {
          "name": "stdout",
          "output_type": "stream",
          "text": [
            "PW SKILLS\n"
          ]
        }
      ],
      "source": [
        "# No worries we can correct it by:-\n",
        "del print\n",
        "print(\"PW SKILLS\")"
      ]
    },
    {
      "cell_type": "markdown",
      "metadata": {
        "id": "n2YPVfoPbzJp"
      },
      "source": [
        "**5. What is mutability in Python?**\n",
        "- Those whose value can be changed after cerating\n",
        "- we can edit them such as adding, subtracting to it or changing the value of it\n",
        "- The order of the charaters/symbols remains the same\n",
        "- whereas strings are inmutable(whose value can't be changed after creating)\n",
        "- For example lists:-"
      ]
    },
    {
      "cell_type": "code",
      "execution_count": null,
      "metadata": {
        "colab": {
          "base_uri": "https://localhost:8080/"
        },
        "id": "N9mlUbjrz2Se",
        "outputId": "96cb6289-884f-4a98-c5b6-0245603979c2"
      },
      "outputs": [
        {
          "data": {
            "text/plain": [
              "list"
            ]
          },
          "execution_count": 21,
          "metadata": {},
          "output_type": "execute_result"
        }
      ],
      "source": [
        "pw_skills = [1,2,3,4,5,5,6]\n",
        "type(pw_skills)"
      ]
    },
    {
      "cell_type": "code",
      "execution_count": null,
      "metadata": {
        "colab": {
          "base_uri": "https://localhost:8080/"
        },
        "id": "SHfpPW9uz8tU",
        "outputId": "384e4c29-1b5f-41ed-e819-c6f1e9d00672"
      },
      "outputs": [
        {
          "data": {
            "text/plain": [
              "[9, 2, 3, 4, 5, 5, 6]"
            ]
          },
          "execution_count": 22,
          "metadata": {},
          "output_type": "execute_result"
        }
      ],
      "source": [
        "pw_skills[0] = 9\n",
        "pw_skills"
      ]
    },
    {
      "cell_type": "markdown",
      "metadata": {
        "id": "1C2TbwoC9NNF"
      },
      "source": [
        "**6. Why are lists mutable, but tuples are immutable?**\n",
        "- Mutable are the objects which are once cretaed can be modified whereas inmutable are the objects which once created can't be modified later.\n",
        "- The main reason is tuples used parentheses whereas list uses squae brackets which makes the tuples have the defined/fixed length and list have an undefined/infinite length, which makes the tuples storing less data and very fast to use in comparison with lists."
      ]
    },
    {
      "cell_type": "markdown",
      "metadata": {
        "id": "Gap7zy7e-vJh"
      },
      "source": [
        "**7. What is the difference between “==” and “is” operators in Python?**\n",
        "- \"==\" this is used for equality wheather two objects are equal or not, its an equality operator\n",
        "- \"is\" this is ussed for saying wheather two or more characters refer to the same object or not,its an identity operator\n",
        "- Its not necessary if two objets are equal then they must be identical\n"
      ]
    },
    {
      "cell_type": "markdown",
      "metadata": {
        "id": "grtqXyctnN7z"
      },
      "source": [
        "**8. What are logical operators in Python?**\n",
        "- Logical operators or we can say bitwise operator\n",
        "- It contains AND, OR, NOT,XOR\n",
        "\n"
      ]
    },
    {
      "cell_type": "code",
      "execution_count": null,
      "metadata": {
        "colab": {
          "base_uri": "https://localhost:8080/"
        },
        "id": "tH8uXxyDSxie",
        "outputId": "2ff1a743-bf84-498c-aabc-2774521abf5e"
      },
      "outputs": [
        {
          "name": "stdout",
          "output_type": "stream",
          "text": [
            "True\n",
            "False\n",
            "False\n",
            "False\n"
          ]
        }
      ],
      "source": [
        "#AND operator\n",
        "print(True and True)\n",
        "print(True and False)\n",
        "print(False and True)\n",
        "print(False and False)"
      ]
    },
    {
      "cell_type": "code",
      "execution_count": null,
      "metadata": {
        "colab": {
          "base_uri": "https://localhost:8080/"
        },
        "id": "hW8HbINYS2oX",
        "outputId": "c9f51f15-4b95-487e-a221-5752a1be63aa"
      },
      "outputs": [
        {
          "name": "stdout",
          "output_type": "stream",
          "text": [
            "True\n",
            "True\n",
            "True\n",
            "False\n"
          ]
        }
      ],
      "source": [
        "#OR opertor\n",
        "print(True or True)\n",
        "print(True or False)\n",
        "print(False or True)\n",
        "print(False or False)"
      ]
    },
    {
      "cell_type": "code",
      "execution_count": null,
      "metadata": {
        "colab": {
          "base_uri": "https://localhost:8080/"
        },
        "id": "SNwyn__aTCYt",
        "outputId": "a316b00d-b11f-4cb8-bfc7-85cc9b9437f9"
      },
      "outputs": [
        {
          "name": "stdout",
          "output_type": "stream",
          "text": [
            "False\n",
            "True\n"
          ]
        }
      ],
      "source": [
        "#NOT operator\n",
        "print(not True)\n",
        "print(not False)"
      ]
    },
    {
      "cell_type": "code",
      "execution_count": null,
      "metadata": {
        "colab": {
          "base_uri": "https://localhost:8080/"
        },
        "id": "xB3e2UzrTEdC",
        "outputId": "80a2316a-e755-4a64-e5d3-c114d8961977"
      },
      "outputs": [
        {
          "name": "stdout",
          "output_type": "stream",
          "text": [
            "False\n",
            "True\n",
            "True\n",
            "False\n"
          ]
        }
      ],
      "source": [
        "#XOR operator\n",
        "print(True ^ True)\n",
        "print(True ^ False)\n",
        "print(False ^ True)\n",
        "print(False ^ False)"
      ]
    },
    {
      "cell_type": "markdown",
      "metadata": {
        "id": "1tCi7y_VTMk3"
      },
      "source": [
        "**9. What is type casting in Python?**\n",
        "- Type casting means changing the type of the object\n",
        "- Its of types:-\n",
        "1.   Explicit type casting\n",
        "2.   Implicit type casting\n",
        "- For example\n",
        "\n",
        "\n"
      ]
    },
    {
      "cell_type": "code",
      "execution_count": null,
      "metadata": {
        "colab": {
          "base_uri": "https://localhost:8080/"
        },
        "id": "78K5HrFKT_w7",
        "outputId": "1f2dec0f-221f-45e4-c7ee-91d9a836fa1f"
      },
      "outputs": [
        {
          "name": "stdout",
          "output_type": "stream",
          "text": [
            "<class 'str'>\n"
          ]
        }
      ],
      "source": [
        "A = \"4\"\n",
        "print(type(A))"
      ]
    },
    {
      "cell_type": "code",
      "execution_count": null,
      "metadata": {
        "colab": {
          "base_uri": "https://localhost:8080/"
        },
        "id": "MDnVF_1hT_ed",
        "outputId": "4528e17a-751e-480b-e945-52371b423057"
      },
      "outputs": [
        {
          "name": "stdout",
          "output_type": "stream",
          "text": [
            "<class 'int'>\n"
          ]
        }
      ],
      "source": [
        "#Now changing the type\n",
        "A = int(A)\n",
        "print(type(A))"
      ]
    },
    {
      "cell_type": "code",
      "execution_count": null,
      "metadata": {
        "colab": {
          "base_uri": "https://localhost:8080/"
        },
        "id": "R-x_u8uwTMNr",
        "outputId": "2519a4cb-7b11-4ba8-eda9-e8934b0ac7ef"
      },
      "outputs": [
        {
          "name": "stdout",
          "output_type": "stream",
          "text": [
            "<class 'str'>\n"
          ]
        }
      ],
      "source": [
        "B = \"4.9\"\n",
        "print(type(B))"
      ]
    },
    {
      "cell_type": "code",
      "execution_count": null,
      "metadata": {
        "colab": {
          "base_uri": "https://localhost:8080/"
        },
        "id": "MM-pnUyaVnJh",
        "outputId": "777540de-6314-4c8a-fd46-70b6ddbef816"
      },
      "outputs": [
        {
          "name": "stdout",
          "output_type": "stream",
          "text": [
            "<class 'float'>\n"
          ]
        }
      ],
      "source": [
        "B = float(B)\n",
        "print(type(B))"
      ]
    },
    {
      "cell_type": "markdown",
      "metadata": {
        "id": "yVKH39P_VxdX"
      },
      "source": [
        "- but we can't change the letters to integer or float wait let's see with an example:-\n",
        "\n",
        "---\n",
        "\n"
      ]
    },
    {
      "cell_type": "code",
      "execution_count": null,
      "metadata": {
        "colab": {
          "base_uri": "https://localhost:8080/"
        },
        "id": "16WgwMoOV6wB",
        "outputId": "59b3aef9-1484-40e7-be9b-390dbc724ca9"
      },
      "outputs": [
        {
          "name": "stdout",
          "output_type": "stream",
          "text": [
            "<class 'str'>\n"
          ]
        }
      ],
      "source": [
        "C = \"Hello\"\n",
        "print(type(C))"
      ]
    },
    {
      "cell_type": "code",
      "execution_count": null,
      "metadata": {
        "colab": {
          "base_uri": "https://localhost:8080/",
          "height": 162
        },
        "id": "VYctfnnjWE3h",
        "outputId": "266e2add-1716-496d-aec3-76e479fc66c9"
      },
      "outputs": [
        {
          "ename": "ValueError",
          "evalue": "invalid literal for int() with base 10: 'Hello'",
          "output_type": "error",
          "traceback": [
            "\u001b[0;31m---------------------------------------------------------------------------\u001b[0m",
            "\u001b[0;31mValueError\u001b[0m                                Traceback (most recent call last)",
            "\u001b[0;32m<ipython-input-20-e515b23082c2>\u001b[0m in \u001b[0;36m<cell line: 0>\u001b[0;34m()\u001b[0m\n\u001b[0;32m----> 1\u001b[0;31m \u001b[0mC\u001b[0m \u001b[0;34m=\u001b[0m \u001b[0mint\u001b[0m\u001b[0;34m(\u001b[0m\u001b[0mC\u001b[0m\u001b[0;34m)\u001b[0m\u001b[0;34m\u001b[0m\u001b[0;34m\u001b[0m\u001b[0m\n\u001b[0m\u001b[1;32m      2\u001b[0m \u001b[0mprint\u001b[0m\u001b[0;34m(\u001b[0m\u001b[0mtype\u001b[0m\u001b[0;34m(\u001b[0m\u001b[0mC\u001b[0m\u001b[0;34m)\u001b[0m\u001b[0;34m)\u001b[0m\u001b[0;34m\u001b[0m\u001b[0;34m\u001b[0m\u001b[0m\n",
            "\u001b[0;31mValueError\u001b[0m: invalid literal for int() with base 10: 'Hello'"
          ]
        }
      ],
      "source": [
        "C = int(C)\n",
        "print(type(C))"
      ]
    },
    {
      "cell_type": "markdown",
      "metadata": {
        "id": "u5icHKU7WfV2"
      },
      "source": [
        "**10. What is the difference between implicit and explicit type casting?**\n",
        "- Inplicit type casting is when the python itself understands the data type.\n",
        "- For example:-"
      ]
    },
    {
      "cell_type": "code",
      "execution_count": null,
      "metadata": {
        "colab": {
          "base_uri": "https://localhost:8080/"
        },
        "id": "Co1saAKcfUIt",
        "outputId": "1f3a5a38-9024-496d-cb6f-92fa9ac6c0a9"
      },
      "outputs": [
        {
          "data": {
            "text/plain": [
              "9.8"
            ]
          },
          "execution_count": 21,
          "metadata": {},
          "output_type": "execute_result"
        }
      ],
      "source": [
        "5 + 4.8"
      ]
    },
    {
      "cell_type": "markdown",
      "metadata": {
        "id": "HBkTIIYBfY51"
      },
      "source": [
        "- here \"5\" is integer but \"4.8\" is a float but python understands it and added it directly"
      ]
    },
    {
      "cell_type": "markdown",
      "metadata": {
        "id": "DOm7r0KVftH9"
      },
      "source": [
        "- Explicit type casting is when we need to convert the data type using inbuilt fuctions\n",
        "- For example:-\n"
      ]
    },
    {
      "cell_type": "code",
      "execution_count": null,
      "metadata": {
        "colab": {
          "base_uri": "https://localhost:8080/",
          "height": 144
        },
        "id": "3IadwhLbgJab",
        "outputId": "935e0b3b-2aae-409e-fdf1-8ce0f131ca44"
      },
      "outputs": [
        {
          "ename": "TypeError",
          "evalue": "can only concatenate str (not \"float\") to str",
          "output_type": "error",
          "traceback": [
            "\u001b[0;31m---------------------------------------------------------------------------\u001b[0m",
            "\u001b[0;31mTypeError\u001b[0m                                 Traceback (most recent call last)",
            "\u001b[0;32m<ipython-input-22-89d988a89e72>\u001b[0m in \u001b[0;36m<cell line: 0>\u001b[0;34m()\u001b[0m\n\u001b[0;32m----> 1\u001b[0;31m \u001b[0;34m\"5\"\u001b[0m \u001b[0;34m+\u001b[0m \u001b[0;36m4.8\u001b[0m\u001b[0;34m\u001b[0m\u001b[0;34m\u001b[0m\u001b[0m\n\u001b[0m",
            "\u001b[0;31mTypeError\u001b[0m: can only concatenate str (not \"float\") to str"
          ]
        }
      ],
      "source": [
        "\"5\" + 4.8"
      ]
    },
    {
      "cell_type": "markdown",
      "metadata": {
        "id": "UipLm1k_gt58"
      },
      "source": [
        "- Here it can't understand as \"5\" is a string and 4.8 is a flaot value but here is a solution to it using typecasting :-"
      ]
    },
    {
      "cell_type": "code",
      "execution_count": null,
      "metadata": {
        "colab": {
          "base_uri": "https://localhost:8080/"
        },
        "id": "HQYmZqBBhvpt",
        "outputId": "372bc84e-c401-4591-dbc9-e9af4e849ae3"
      },
      "outputs": [
        {
          "data": {
            "text/plain": [
              "9.8"
            ]
          },
          "execution_count": 23,
          "metadata": {},
          "output_type": "execute_result"
        }
      ],
      "source": [
        "a = \"5\"\n",
        "b = 4.8\n",
        "int(a) + 4.8"
      ]
    },
    {
      "cell_type": "markdown",
      "metadata": {
        "id": "XHh8RGzRiY_z"
      },
      "source": [
        "**11. What is the purpose of conditional statements in Python?**\n",
        "- Conditional statement uses the keywords such as if, else, elif, elsief etc.\n",
        "- Its used to compare two or more situation and predict the answer based on the input\n",
        "- Its used to write the condition such as If the wheather is \"Sunny\", I will play cricket and If wheather is \"Rainy\" I will Dance else I will watch T.V\n",
        "- This statement is code will look like:-"
      ]
    },
    {
      "cell_type": "code",
      "execution_count": null,
      "metadata": {
        "colab": {
          "base_uri": "https://localhost:8080/"
        },
        "id": "6GjQLxYq3fpg",
        "outputId": "07e9e878-d80b-489a-de79-49b8793db68a"
      },
      "outputs": [
        {
          "name": "stdout",
          "output_type": "stream",
          "text": [
            "Wheather:- Sunny\n",
            "I will play cricket\n"
          ]
        }
      ],
      "source": [
        "wheather = input(\"Wheather:- \")\n",
        "if wheather == \"Sunny\":\n",
        "    print(\"I will play cricket\")\n",
        "elif wheather == \"Rainy\":\n",
        "    print(\"I will Dance\")\n",
        "else:\n",
        "    print(\"I will watch T.V\")\n"
      ]
    },
    {
      "cell_type": "markdown",
      "metadata": {
        "id": "MC3qGNPa5RAk"
      },
      "source": [
        "**12. How does the elif statement work?**\n",
        "- Elif statement means else if\n",
        "- it checks the statements of if sequently, it is used after the if statement, if above statement is false then it will go to the next statement\n",
        "- Multiple elif can be used at a time if all are false then else statement will be used\n",
        "- For example:-\n"
      ]
    },
    {
      "cell_type": "code",
      "execution_count": null,
      "metadata": {
        "colab": {
          "base_uri": "https://localhost:8080/"
        },
        "id": "SoT5Ags32Ujq",
        "outputId": "1c7c3708-b39c-4593-ce1f-10999ffc6453"
      },
      "outputs": [
        {
          "name": "stdout",
          "output_type": "stream",
          "text": [
            "Wheather:- Rainy\n",
            "I will Dance\n"
          ]
        }
      ],
      "source": [
        "wheather = input(\"Wheather:- \")\n",
        "if wheather == \"Sunny\":\n",
        "    print(\"I will play cricket\")\n",
        "elif wheather == \"Rainy\":\n",
        "    print(\"I will Dance\")"
      ]
    },
    {
      "cell_type": "markdown",
      "metadata": {
        "id": "m18lj8sx3CkD"
      },
      "source": [
        "**13. What is the difference between for and while loops?**\n",
        "- while loop is used when no. of iterations is unknown\n",
        "- For loop is used when no of iterations is knowm"
      ]
    },
    {
      "cell_type": "code",
      "execution_count": null,
      "metadata": {
        "colab": {
          "base_uri": "https://localhost:8080/"
        },
        "id": "jV8cp7Qb33E7",
        "outputId": "dac77484-3346-40e4-b190-95ccc36a64f2"
      },
      "outputs": [
        {
          "name": "stdout",
          "output_type": "stream",
          "text": [
            "1\n",
            "2\n",
            "3\n",
            "4\n",
            "5\n"
          ]
        }
      ],
      "source": [
        "n = 6\n",
        "i = 1\n",
        "while i < n:\n",
        "    print(i)\n",
        "    i = i + 1"
      ]
    },
    {
      "cell_type": "code",
      "execution_count": null,
      "metadata": {
        "colab": {
          "base_uri": "https://localhost:8080/"
        },
        "id": "1_NC8_aK4Duj",
        "outputId": "c094fed1-a612-4fc0-a666-86241bc9377d"
      },
      "outputs": [
        {
          "name": "stdout",
          "output_type": "stream",
          "text": [
            "p\n",
            "w\n",
            "s\n",
            "k\n",
            "i\n",
            "l\n",
            "l\n",
            "s\n"
          ]
        }
      ],
      "source": [
        "for i in \"pwskills\":\n",
        "    print(i)"
      ]
    },
    {
      "cell_type": "markdown",
      "metadata": {
        "id": "I1CHuAxw6cP1"
      },
      "source": [
        "**14. Describe a scenario where a while loop is more suitable than a for loop.**\n",
        "- Think you are ordering food in the menu you see all the dishes in menu but you don't know how much items will you add"
      ]
    },
    {
      "cell_type": "code",
      "source": [
        "order = []\n",
        "add_more = \"yes\"\n",
        "\n",
        "while add_more.lower() == \"yes\":\n",
        "    item = input(\"Enter the food item you want to order: \")\n",
        "    order.append(item)\n",
        "    add_more = input(\"Do you want to add more items? (yes/no): \")\n",
        "\n",
        "print(\"Your order has been placed:\")\n",
        "for item in order:\n",
        "    print(f\"- {item}\")"
      ],
      "metadata": {
        "colab": {
          "base_uri": "https://localhost:8080/"
        },
        "id": "Y3xHjdydfmqv",
        "outputId": "4fc0ed7e-faba-49aa-fa92-d54f6f419c22"
      },
      "execution_count": 4,
      "outputs": [
        {
          "output_type": "stream",
          "name": "stdout",
          "text": [
            "Enter the food item you want to order: burger\n",
            "Do you want to add more items? (yes/no): yes\n",
            "Enter the food item you want to order: pizza\n",
            "Do you want to add more items? (yes/no): no\n",
            "Your order has been placed:\n",
            "- burger\n",
            "- pizza\n"
          ]
        }
      ]
    },
    {
      "cell_type": "markdown",
      "source": [
        "- Here while loop is more suitable as we don't know how much itmes will add up."
      ],
      "metadata": {
        "id": "Arg7zXZyf3Bw"
      }
    },
    {
      "cell_type": "markdown",
      "source": [
        "**1. Write a Python program to print \"Hello, World!\"**"
      ],
      "metadata": {
        "id": "hzAOcwrTgPGD"
      }
    },
    {
      "cell_type": "code",
      "source": [
        "print(\"Hello, World!\")"
      ],
      "metadata": {
        "colab": {
          "base_uri": "https://localhost:8080/"
        },
        "id": "NoNsillTgMV9",
        "outputId": "9256e1da-1825-4b21-ea48-6cfb28835016"
      },
      "execution_count": 5,
      "outputs": [
        {
          "output_type": "stream",
          "name": "stdout",
          "text": [
            "Hello, World!\n"
          ]
        }
      ]
    },
    {
      "cell_type": "markdown",
      "source": [
        "**2. Write a Python program that displays your name and age?**\n"
      ],
      "metadata": {
        "id": "CG8Kktkx_YAq"
      }
    },
    {
      "cell_type": "code",
      "source": [
        "name = \"Gaurav\"\n",
        "age = \"18\"\n",
        "print(\"Name:  \" + name)\n",
        "print(\"Age: \" + age)"
      ],
      "metadata": {
        "colab": {
          "base_uri": "https://localhost:8080/"
        },
        "id": "2uT0mutk_cht",
        "outputId": "7acccddf-3873-49f3-a769-81ebec3d02d1"
      },
      "execution_count": 3,
      "outputs": [
        {
          "output_type": "stream",
          "name": "stdout",
          "text": [
            "Name:  Gaurav\n",
            "Age: 18\n"
          ]
        }
      ]
    },
    {
      "cell_type": "markdown",
      "source": [
        "**3. Write code to print all the pre-defined keywords in Python using the keyword library?**\n"
      ],
      "metadata": {
        "id": "awmJBnjf_9yQ"
      }
    },
    {
      "cell_type": "code",
      "source": [
        "help(\"keywords\")"
      ],
      "metadata": {
        "colab": {
          "base_uri": "https://localhost:8080/"
        },
        "id": "rdm8HjDPAD8a",
        "outputId": "a5f72000-75ce-4310-c6fa-4916f4716730"
      },
      "execution_count": 4,
      "outputs": [
        {
          "output_type": "stream",
          "name": "stdout",
          "text": [
            "\n",
            "Here is a list of the Python keywords.  Enter any keyword to get more help.\n",
            "\n",
            "False               class               from                or\n",
            "None                continue            global              pass\n",
            "True                def                 if                  raise\n",
            "and                 del                 import              return\n",
            "as                  elif                in                  try\n",
            "assert              else                is                  while\n",
            "async               except              lambda              with\n",
            "await               finally             nonlocal            yield\n",
            "break               for                 not                 \n",
            "\n"
          ]
        }
      ]
    },
    {
      "cell_type": "markdown",
      "source": [
        "**4. Write a program that checks if a given word is a Python keyword**"
      ],
      "metadata": {
        "id": "E7MkckkGAOpZ"
      }
    },
    {
      "cell_type": "code",
      "source": [
        "import keyword\n",
        "word = input(\"Enter the word: \")\n",
        "if keyword.iskeyword(word):\n",
        "    print(word + \" is a keyword\")\n",
        "else:\n",
        "    print(word + \" is not a keyword\")"
      ],
      "metadata": {
        "colab": {
          "base_uri": "https://localhost:8080/"
        },
        "id": "motSQ8o9ATtf",
        "outputId": "198c8a94-058c-42dc-b998-b8a9f7522005"
      },
      "execution_count": 11,
      "outputs": [
        {
          "output_type": "stream",
          "name": "stdout",
          "text": [
            "Enter the word: for\n",
            "for is a keyword\n"
          ]
        }
      ]
    },
    {
      "cell_type": "markdown",
      "source": [
        "**5. Create a list and tuple in Python, and demonstrate how attempting to change an element works differently\n",
        "for each.**"
      ],
      "metadata": {
        "id": "DhF5owW7CuNo"
      }
    },
    {
      "cell_type": "code",
      "source": [
        "#LIST:-\n",
        "list = [1,2,3,4,\"PWSKILL\",\"GAURAv\"]\n",
        "list[1] =  18\n",
        "print(list)"
      ],
      "metadata": {
        "colab": {
          "base_uri": "https://localhost:8080/"
        },
        "id": "E3ErJvXoCy0k",
        "outputId": "f1987c0a-7681-48a8-dace-7f1516acdbb5"
      },
      "execution_count": 14,
      "outputs": [
        {
          "output_type": "stream",
          "name": "stdout",
          "text": [
            "[1, 18, 3, 4, 'PWSKILL', 'GAURAv']\n"
          ]
        }
      ]
    },
    {
      "cell_type": "code",
      "source": [
        "#TUPLEs\n",
        "tuple = (1,2,3,4,\"PWSKILL\",\"GAURAv\")\n",
        "tuple[1] = 18\n",
        "print(tuple)"
      ],
      "metadata": {
        "colab": {
          "base_uri": "https://localhost:8080/",
          "height": 198
        },
        "id": "bgAzc4BTDIkA",
        "outputId": "c2aa53cf-0c60-4b3f-f772-a78b82cab29b"
      },
      "execution_count": 36,
      "outputs": [
        {
          "output_type": "error",
          "ename": "TypeError",
          "evalue": "'tuple' object does not support item assignment",
          "traceback": [
            "\u001b[0;31m---------------------------------------------------------------------------\u001b[0m",
            "\u001b[0;31mTypeError\u001b[0m                                 Traceback (most recent call last)",
            "\u001b[0;32m<ipython-input-36-c0fba6d655d8>\u001b[0m in \u001b[0;36m<cell line: 0>\u001b[0;34m()\u001b[0m\n\u001b[1;32m      1\u001b[0m \u001b[0;31m#TUPLEs\u001b[0m\u001b[0;34m\u001b[0m\u001b[0;34m\u001b[0m\u001b[0m\n\u001b[1;32m      2\u001b[0m \u001b[0mtuple\u001b[0m \u001b[0;34m=\u001b[0m \u001b[0;34m(\u001b[0m\u001b[0;36m1\u001b[0m\u001b[0;34m,\u001b[0m\u001b[0;36m2\u001b[0m\u001b[0;34m,\u001b[0m\u001b[0;36m3\u001b[0m\u001b[0;34m,\u001b[0m\u001b[0;36m4\u001b[0m\u001b[0;34m,\u001b[0m\u001b[0;34m\"PWSKILL\"\u001b[0m\u001b[0;34m,\u001b[0m\u001b[0;34m\"GAURAv\"\u001b[0m\u001b[0;34m)\u001b[0m\u001b[0;34m\u001b[0m\u001b[0;34m\u001b[0m\u001b[0m\n\u001b[0;32m----> 3\u001b[0;31m \u001b[0mtuple\u001b[0m\u001b[0;34m[\u001b[0m\u001b[0;36m1\u001b[0m\u001b[0;34m]\u001b[0m \u001b[0;34m=\u001b[0m \u001b[0;36m18\u001b[0m\u001b[0;34m\u001b[0m\u001b[0;34m\u001b[0m\u001b[0m\n\u001b[0m\u001b[1;32m      4\u001b[0m \u001b[0mprint\u001b[0m\u001b[0;34m(\u001b[0m\u001b[0mtuple\u001b[0m\u001b[0;34m)\u001b[0m\u001b[0;34m\u001b[0m\u001b[0;34m\u001b[0m\u001b[0m\n",
            "\u001b[0;31mTypeError\u001b[0m: 'tuple' object does not support item assignment"
          ]
        }
      ]
    },
    {
      "cell_type": "markdown",
      "source": [
        "**6. Write a function to demonstrate the behavior of mutable and immutable arguments.**"
      ],
      "metadata": {
        "id": "N8ZST4apDr5l"
      }
    },
    {
      "cell_type": "code",
      "source": [
        "#list is mutable and string is inmutable\n",
        "list = [1,2,3,\"GAURAV\",\"HELOO\"]\n",
        "list[2] = 2\n",
        "list"
      ],
      "metadata": {
        "colab": {
          "base_uri": "https://localhost:8080/"
        },
        "id": "XdM6JQ0JEB7n",
        "outputId": "9376c5d3-5b38-48b2-cb2e-1751cf6ce5c9"
      },
      "execution_count": 24,
      "outputs": [
        {
          "output_type": "execute_result",
          "data": {
            "text/plain": [
              "[1, 2, 2, 'GAURAV', 'HELOO']"
            ]
          },
          "metadata": {},
          "execution_count": 24
        }
      ]
    },
    {
      "cell_type": "code",
      "source": [
        "a = \"PWSKILLS\"\n",
        "a[1] = \"a\""
      ],
      "metadata": {
        "colab": {
          "base_uri": "https://localhost:8080/",
          "height": 162
        },
        "id": "yNOELVywE3py",
        "outputId": "baf15240-dac1-4d97-efa0-0c353f31d6c0"
      },
      "execution_count": 27,
      "outputs": [
        {
          "output_type": "error",
          "ename": "TypeError",
          "evalue": "'str' object does not support item assignment",
          "traceback": [
            "\u001b[0;31m---------------------------------------------------------------------------\u001b[0m",
            "\u001b[0;31mTypeError\u001b[0m                                 Traceback (most recent call last)",
            "\u001b[0;32m<ipython-input-27-294867e56483>\u001b[0m in \u001b[0;36m<cell line: 0>\u001b[0;34m()\u001b[0m\n\u001b[1;32m      1\u001b[0m \u001b[0ma\u001b[0m \u001b[0;34m=\u001b[0m \u001b[0;34m\"PWSKILLS\"\u001b[0m\u001b[0;34m\u001b[0m\u001b[0;34m\u001b[0m\u001b[0m\n\u001b[0;32m----> 2\u001b[0;31m \u001b[0ma\u001b[0m\u001b[0;34m[\u001b[0m\u001b[0;36m1\u001b[0m\u001b[0;34m]\u001b[0m \u001b[0;34m=\u001b[0m \u001b[0;34m\"a\"\u001b[0m\u001b[0;34m\u001b[0m\u001b[0;34m\u001b[0m\u001b[0m\n\u001b[0m",
            "\u001b[0;31mTypeError\u001b[0m: 'str' object does not support item assignment"
          ]
        }
      ]
    },
    {
      "cell_type": "markdown",
      "source": [
        "**7. Write a program that performs basic arithmetic operations on two user-input numbers.**"
      ],
      "metadata": {
        "id": "530CJXuKFKfO"
      }
    },
    {
      "cell_type": "code",
      "source": [
        "a = input(\"Enter the first number: \")\n",
        "b = input(\"Enter the first number: \")\n",
        "print(\"Addition: \" + str(int(a) + int(b)))\n",
        "print(\"Subtraction: \" + str(int(a) - int(b)))\n",
        "print(\"Multiplication: \" + str(int(a) * int(b)))\n",
        "print(\"Division: \" + str(int(a) / int(b)))"
      ],
      "metadata": {
        "colab": {
          "base_uri": "https://localhost:8080/"
        },
        "id": "f05_H1gkFOYu",
        "outputId": "d3bccd57-fab6-4b2e-8f74-0e3fa62c63ed"
      },
      "execution_count": 30,
      "outputs": [
        {
          "output_type": "stream",
          "name": "stdout",
          "text": [
            "Enter the first number: 2\n",
            "Enter the first number: 3\n",
            "Addition: 5\n",
            "Subtraction: -1\n",
            "Multiplication: 6\n",
            "Division: 0.6666666666666666\n"
          ]
        }
      ]
    },
    {
      "cell_type": "markdown",
      "source": [
        "**8. Write a program to demonstrate the use of logical operators.**\n"
      ],
      "metadata": {
        "id": "v6sYR-WnGyER"
      }
    },
    {
      "cell_type": "code",
      "source": [
        "a = True\n",
        "b = False\n",
        "print(\"a and b \" + str(a and b))\n",
        "print(\"a or b \" + str(a or b))\n",
        "print(\"not a \" + str(not a))\n",
        "print(\"a XOR b \" + str(a^b))"
      ],
      "metadata": {
        "colab": {
          "base_uri": "https://localhost:8080/"
        },
        "id": "QrigW8SiHBiZ",
        "outputId": "11f0b3c9-2bab-4811-988b-3d6f9999dcc8"
      },
      "execution_count": 32,
      "outputs": [
        {
          "output_type": "stream",
          "name": "stdout",
          "text": [
            "a and b False\n",
            "a or b True\n",
            "not a False\n",
            "a XOR b True\n"
          ]
        }
      ]
    },
    {
      "cell_type": "markdown",
      "source": [
        "**9. Write a Python program to convert user input from string to integer, float, and boolean types.**"
      ],
      "metadata": {
        "id": "A9-YpLIRZXyf"
      }
    },
    {
      "cell_type": "code",
      "source": [
        "a = input(\"Enter a no. \")\n",
        "integer_of_a = int(a)\n",
        "float_of_a  = float(a)\n",
        "boolean_of_a  = bool(a)\n",
        "print(\"Intergeral value of a:\", integer_of_a)\n",
        "print(\"Float value of a:\", float_of_a)\n",
        "print(\"Boolean value of a:\", boolean_of_a)"
      ],
      "metadata": {
        "colab": {
          "base_uri": "https://localhost:8080/"
        },
        "id": "ue3ZkkX_ZbGo",
        "outputId": "155600f1-3aad-430f-e491-65c248d56f99"
      },
      "execution_count": 57,
      "outputs": [
        {
          "output_type": "stream",
          "name": "stdout",
          "text": [
            "Enter a no. 0\n",
            "Intergeral value of a: 0\n",
            "Float value of a: 0.0\n",
            "Boolean value of a: True\n"
          ]
        }
      ]
    },
    {
      "cell_type": "markdown",
      "source": [
        "**10. Write code to demonstrate type casting with list elements**"
      ],
      "metadata": {
        "id": "r2rp0jS0aKbP"
      }
    },
    {
      "cell_type": "code",
      "source": [
        "list = [\"1\", \"2\", \"3\"]\n",
        "a = [int(item) for item in list]\n",
        "b = [float(item) for item in list]\n",
        "print(\"Intergeral value of list;\", a)\n",
        "print(\"Float value of list;\", b)"
      ],
      "metadata": {
        "colab": {
          "base_uri": "https://localhost:8080/"
        },
        "id": "ioWRPYDZdum_",
        "outputId": "b1ec0528-4b91-49c8-b7f8-ae303afafdb4"
      },
      "execution_count": 61,
      "outputs": [
        {
          "output_type": "stream",
          "name": "stdout",
          "text": [
            "Intergeral value of list; [1, 2, 3]\n",
            "Float value of list; [1.0, 2.0, 3.0]\n"
          ]
        }
      ]
    },
    {
      "cell_type": "markdown",
      "source": [
        "**11. Write a program that checks if a number is positive, negative, or zero.**"
      ],
      "metadata": {
        "id": "MvqW83fDep15"
      }
    },
    {
      "cell_type": "code",
      "source": [
        "number = int(input(\"Enter a number:- \"))\n",
        "if number > 0:\n",
        "    print(\"The number is positive.\")\n",
        "elif number < 0:\n",
        "    print(\"The number is negative.\")\n",
        "else:\n",
        "    print(\"The number is zero.\")"
      ],
      "metadata": {
        "colab": {
          "base_uri": "https://localhost:8080/"
        },
        "id": "5XqEURxQfM4K",
        "outputId": "87cddb67-ac1c-4c78-94d6-aa2a406fb0e9"
      },
      "execution_count": 64,
      "outputs": [
        {
          "output_type": "stream",
          "name": "stdout",
          "text": [
            "Enter a number:- 0\n",
            "The number is zero.\n"
          ]
        }
      ]
    },
    {
      "cell_type": "markdown",
      "source": [
        "**12. Write a for loop to print numbers from 1 to 10.**"
      ],
      "metadata": {
        "id": "H7fFvsKtfUgB"
      }
    },
    {
      "cell_type": "code",
      "source": [
        "n = 11\n",
        "for i in range(1,n):\n",
        "    print(i)"
      ],
      "metadata": {
        "colab": {
          "base_uri": "https://localhost:8080/"
        },
        "id": "Y8AqKU_4fUBo",
        "outputId": "6f1cb7f5-4c5e-4172-9173-c5e8c2fee1aa"
      },
      "execution_count": 68,
      "outputs": [
        {
          "output_type": "stream",
          "name": "stdout",
          "text": [
            "1\n",
            "2\n",
            "3\n",
            "4\n",
            "5\n",
            "6\n",
            "7\n",
            "8\n",
            "9\n",
            "10\n"
          ]
        }
      ]
    },
    {
      "cell_type": "markdown",
      "source": [
        "**13. Write a Python program to find the sum of all even numbers between 1 and 50.**"
      ],
      "metadata": {
        "id": "432qYk-xf6JS"
      }
    },
    {
      "cell_type": "code",
      "source": [
        "number = 0\n",
        "for Number in range(2,51,2):\n",
        "  number += Number\n",
        "print(\"Sum of all the even numbers between 1 and 50:-\", number)"
      ],
      "metadata": {
        "colab": {
          "base_uri": "https://localhost:8080/"
        },
        "id": "FqPWfftrf-O3",
        "outputId": "a7285bda-7879-4ee6-9fc4-b357d0f767b8"
      },
      "execution_count": 99,
      "outputs": [
        {
          "output_type": "stream",
          "name": "stdout",
          "text": [
            "Sum of all the even numbers between 1 and 50:- 650\n"
          ]
        }
      ]
    },
    {
      "cell_type": "markdown",
      "source": [
        "**14. Write a program to reverse a string using a while loop.**"
      ],
      "metadata": {
        "id": "8MbARObuhyIT"
      }
    },
    {
      "cell_type": "code",
      "source": [
        "a = \"pwskills\"\n",
        "i = len(a) - 1\n",
        "while i >= 0:\n",
        "    print(a[i], end = \"\")\n",
        "    i = i - 1"
      ],
      "metadata": {
        "colab": {
          "base_uri": "https://localhost:8080/"
        },
        "id": "ORvq9yn2hx-p",
        "outputId": "c9af1dc6-aeea-4ee3-8536-e6410565f214"
      },
      "execution_count": 104,
      "outputs": [
        {
          "output_type": "stream",
          "name": "stdout",
          "text": [
            "sllikswp"
          ]
        }
      ]
    },
    {
      "cell_type": "markdown",
      "source": [
        "**15. Write a Python program to calculate the factorial of a number provided by the user using a while loop.**"
      ],
      "metadata": {
        "id": "KJKWvLB2jOVb"
      }
    },
    {
      "cell_type": "code",
      "source": [
        "Number = int(input(\"Enter a number:- \"))\n",
        "x = 1\n",
        "i = 1\n",
        "while i<=Number:\n",
        "    x*=i\n",
        "    i = i + 1\n",
        "print(\"Factorial of Number is:- \" , x)"
      ],
      "metadata": {
        "colab": {
          "base_uri": "https://localhost:8080/"
        },
        "id": "w_rPcvUBhx4c",
        "outputId": "3e05f69c-1d7a-4cf6-d561-5c1789391b44"
      },
      "execution_count": 119,
      "outputs": [
        {
          "output_type": "stream",
          "name": "stdout",
          "text": [
            "Enter a number:- 5\n",
            "Factorial of Number is:-  120\n"
          ]
        }
      ]
    },
    {
      "cell_type": "markdown",
      "source": [
        "**Thank you so much, i am writing an assingment for the first time. Please provide a valuable feedback. It will be much appriciated, Thank you so much sir/ma'am for your this valuable time.**"
      ],
      "metadata": {
        "id": "flNyBWp5oKH1"
      }
    }
  ],
  "metadata": {
    "colab": {
      "provenance": []
    },
    "kernelspec": {
      "display_name": "Python 3",
      "name": "python3"
    },
    "language_info": {
      "name": "python"
    }
  },
  "nbformat": 4,
  "nbformat_minor": 0
}